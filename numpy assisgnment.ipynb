{
 "cells": [
  {
   "cell_type": "code",
   "execution_count": 3,
   "metadata": {},
   "outputs": [],
   "source": [
    "import numpy as np"
   ]
  },
  {
   "cell_type": "code",
   "execution_count": 95,
   "metadata": {},
   "outputs": [],
   "source": [
    "def vander_monde(vector,N,increasing=False):\n",
    "    if(increasing==False):\n",
    "        y=np.array([(np.array(vector))**(N-i-1) for i in range(N)] ).T\n",
    "        print(y)\n",
    "    if(increasing==True):\n",
    "        z=np.flip(np.array([(np.array(vector))**(N-i-1) for i in range(N)] ).T,axis=1)\n",
    "        print(z)"
   ]
  },
  {
   "cell_type": "code",
   "execution_count": 99,
   "metadata": {},
   "outputs": [
    {
     "name": "stdout",
     "output_type": "stream",
     "text": [
      "[[ 1  1  1]\n",
      " [ 4  2  1]\n",
      " [25  5  1]\n",
      " [64  8  1]]\n"
     ]
    }
   ],
   "source": [
    "vander_monde([1,2,5,8],3,False)"
   ]
  },
  {
   "cell_type": "code",
   "execution_count": 100,
   "metadata": {},
   "outputs": [
    {
     "name": "stdout",
     "output_type": "stream",
     "text": [
      "[[  1   1   1   1]\n",
      " [  1   2   4   8]\n",
      " [  1   5  25 125]\n",
      " [  1   6  36 216]\n",
      " [  1   9  81 729]]\n"
     ]
    }
   ],
   "source": [
    "vander_monde([1,2,5,6,9],4,True)"
   ]
  },
  {
   "cell_type": "code",
   "execution_count": 57,
   "metadata": {},
   "outputs": [],
   "source": [
    "def moving_averages(l,k):\n",
    "    i=0\n",
    "    moving_average=[]\n",
    "    while i < n - k + 1:\n",
    "        current_window = l[i : i + k]\n",
    "        current_average = sum(current_window) / k\n",
    "        moving_average.append(current_average)\n",
    "        i += 1\n",
    "    print(moving_average)           "
   ]
  },
  {
   "cell_type": "code",
   "execution_count": 58,
   "metadata": {
    "scrolled": true
   },
   "outputs": [
    {
     "name": "stdout",
     "output_type": "stream",
     "text": [
      "[25.0, 35.0, 45.0, 55.0, 65.0, 75.0, 85.0]\n"
     ]
    }
   ],
   "source": [
    "moving_averages([10,20,30,40,50,60,70,80,90,100],4)"
   ]
  },
  {
   "cell_type": "code",
   "execution_count": 59,
   "metadata": {},
   "outputs": [
    {
     "name": "stdout",
     "output_type": "stream",
     "text": [
      "[5.0, 4.666666666666667, 5.666666666666667, 6.666666666666667, 9.666666666666666, 28.666666666666668, 49.333333333333336, 72.66666666666667]\n"
     ]
    }
   ],
   "source": [
    "moving_averages([3, 5, 7, 2, 8, 10, 11, 65, 72, 81, 99, 100, 150],3)"
   ]
  }
 ],
 "metadata": {
  "kernelspec": {
   "display_name": "Python 3",
   "language": "python",
   "name": "python3"
  },
  "language_info": {
   "codemirror_mode": {
    "name": "ipython",
    "version": 3
   },
   "file_extension": ".py",
   "mimetype": "text/x-python",
   "name": "python",
   "nbconvert_exporter": "python",
   "pygments_lexer": "ipython3",
   "version": "3.8.5"
  }
 },
 "nbformat": 4,
 "nbformat_minor": 4
}
